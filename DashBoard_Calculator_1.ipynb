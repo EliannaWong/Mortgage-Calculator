{
 "cells": [
  {
   "cell_type": "code",
   "execution_count": 1,
   "metadata": {},
   "outputs": [],
   "source": [
    "import ipywidgets as widgets\n",
    "from IPython.display import display\n",
    "import pandas as pd\n",
    "import numpy as np\n",
    "import seaborn as sns\n",
    "import matplotlib.pyplot as plt"
   ]
  },
  {
   "cell_type": "code",
   "execution_count": 2,
   "metadata": {},
   "outputs": [
    {
     "data": {
      "application/vnd.jupyter.widget-view+json": {
       "model_id": "5d4e08c235064609b94857e80997513d",
       "version_major": 2,
       "version_minor": 0
      },
      "text/plain": [
       "VBox(children=(HBox(children=(BoundedFloatText(value=100000.0, description='House Price:', max=10000000.0, min…"
      ]
     },
     "metadata": {},
     "output_type": "display_data"
    }
   ],
   "source": [
    "yearly_interest_rate = widgets.BoundedFloatText(min = 2, max = 15, value = 4, \n",
    "                                                step = 0.01, description = 'Interest Rate:')\n",
    "\n",
    "down_payment = widgets.BoundedFloatText(min = 0, max = 9999999, value = 20000, \n",
    "                                                step = 1, description = 'Down Payment:')\n",
    "\n",
    "house_price = widgets.BoundedFloatText(min = 10000, max = 10000000, value = 100000, \n",
    "                                                step = 1, description = 'House Price:')\n",
    "\n",
    "mortgage_term = widgets.BoundedFloatText(min = 5, max = 50, value = 30, \n",
    "                                                step = 1, description = 'Mortgage Term::')\n",
    "\n",
    "\n",
    "calculator_output = widgets.Output()\n",
    "def calculator(houseprice, downpayment, interest, mortgageterm):\n",
    "    calculator_output.clear_output()\n",
    "    monthlyint =  interest/1200\n",
    "    loan = houseprice - downpayment\n",
    "    totalmonth = mortgageterm*12\n",
    "    monthlypmt = (loan*monthlyint) / (1 - ((1+monthlyint)**(-totalmonth)))\n",
    "    with calculator_output:\n",
    "        print('The money is {}:'.format(monthlypmt))\n",
    "\n",
    "\n",
    "def money2pay_1(houseprice, downpayment, interest, mortgageterm, month):\n",
    "    monthlyint =  interest/1200\n",
    "    loan = houseprice - downpayment\n",
    "    totalmonth = mortgageterm*12\n",
    "    balance = loan * ((1+monthlyint)**totalmonth - (1+monthlyint)**month)/((1+monthlyint)**totalmonth - 1)\n",
    "    return balance\n",
    "       \n",
    "money2pay_output_1 = widgets.Output()\n",
    "plot_output_1 = widgets.Output()\n",
    "\n",
    "def Money2Pay_1(houseprice, downpayment, interest, mortgageterm):\n",
    "    money2pay_output_1.clear_output()\n",
    "    plot_output_1.clear_output()\n",
    "    Money_2_Pay = []\n",
    "    Interest_2_Pay = []\n",
    "    Principal_2_Pay = []\n",
    "    monthlyint =  interest/1200\n",
    "    loan = houseprice - downpayment\n",
    "    totalmonth = mortgageterm*12\n",
    "    monthlypmt = (loan*monthlyint) / (1 - ((1+monthlyint)**(-totalmonth)))\n",
    "    for i in range(0, int(totalmonth+1)):\n",
    "        Money_2_Pay.append(money2pay_1(houseprice, downpayment, interest, mortgageterm, i))\n",
    "        Interest_2_Pay.append(money2pay_1(houseprice, downpayment, interest, mortgageterm, i) *  monthlyint)\n",
    "        MoneyDue = pd.DataFrame([Money_2_Pay,Interest_2_Pay]).T\n",
    "        MoneyDue.columns = ['Loan To Pay', 'Interest To Pay']\n",
    "        MoneyDue['Principal To Pay'] = monthlypmt - MoneyDue['Interest To Pay']\n",
    "        MoneyDue['Monthly Payment'] = pd.DataFrame([monthlypmt]*int(totalmonth))\n",
    "        MoneyDue['Month'] = pd.DataFrame(range(1, int(totalmonth+1)))\n",
    "        MoneyDue = MoneyDue.drop(MoneyDue.tail(1).index)\n",
    "    with money2pay_output_1:\n",
    "        display(MoneyDue)\n",
    "    with plot_output_1:\n",
    "        sns.lineplot(x='Month', y='value', hue='variable', data=pd.melt(MoneyDue.iloc[:, 1:], ['Month']))\n",
    "        plt.show()\n",
    "\n",
    "\n",
    "\n",
    "def house_price_eventhandler(change):\n",
    "    calculator(change.new, down_payment.value, yearly_interest_rate.value, mortgage_term.value)\n",
    "    Money2Pay_1(change.new, down_payment.value, yearly_interest_rate.value, mortgage_term.value)\n",
    "          \n",
    "def down_payment_eventhandler(change):\n",
    "    calculator(house_price.value, change.new, yearly_interest_rate.value, mortgage_term.value)\n",
    "    Money2Pay_1(house_price.value, change.new, yearly_interest_rate.value, mortgage_term.value)\n",
    "    \n",
    "def yearly_interest_eventhandler(change):\n",
    "    calculator(house_price.value, down_payment.value, change.new, mortgage_term.value)\n",
    "    Money2Pay_1(house_price.value, down_payment.value, change.new, mortgage_term.value)\n",
    "def mortgage_term_eventhandler(change):\n",
    "    calculator(house_price.value, down_payment.value, yearly_interest_rate.value, change.new)\n",
    "    Money2Pay_1(house_price.value, down_payment.value, yearly_interest_rate.value, change.new)\n",
    "    \n",
    "house_price.observe(house_price_eventhandler, names='value')\n",
    "down_payment.observe(down_payment_eventhandler, names='value')\n",
    "yearly_interest_rate.observe(yearly_interest_eventhandler, names='value')\n",
    "mortgage_term.observe(mortgage_term_eventhandler, names='value')\n",
    "    \n",
    "    \n",
    "item_layout = widgets.Layout(margin='0 0 50px 0')\n",
    "input_widgets = widgets.HBox([house_price, down_payment, yearly_interest_rate, mortgage_term], layout = item_layout)\n",
    "tab = widgets.Tab([money2pay_output_1, plot_output_1], layout = item_layout)\n",
    "tab.set_title(0, 'Dataset Exploration')\n",
    "tab.set_title(1, 'Amortization BreakDown')\n",
    "dashboard = widgets.VBox([input_widgets, tab])\n",
    "display(dashboard)"
   ]
  },
  {
   "cell_type": "code",
   "execution_count": 3,
   "metadata": {},
   "outputs": [
    {
     "data": {
      "text/html": [
       "<div>\n",
       "<style scoped>\n",
       "    .dataframe tbody tr th:only-of-type {\n",
       "        vertical-align: middle;\n",
       "    }\n",
       "\n",
       "    .dataframe tbody tr th {\n",
       "        vertical-align: top;\n",
       "    }\n",
       "\n",
       "    .dataframe thead th {\n",
       "        text-align: right;\n",
       "    }\n",
       "</style>\n",
       "<table border=\"1\" class=\"dataframe\">\n",
       "  <thead>\n",
       "    <tr style=\"text-align: right;\">\n",
       "      <th></th>\n",
       "      <th>0</th>\n",
       "    </tr>\n",
       "  </thead>\n",
       "  <tbody>\n",
       "    <tr>\n",
       "      <th>0</th>\n",
       "      <td>13</td>\n",
       "    </tr>\n",
       "    <tr>\n",
       "      <th>1</th>\n",
       "      <td>1234</td>\n",
       "    </tr>\n",
       "  </tbody>\n",
       "</table>\n",
       "</div>"
      ],
      "text/plain": [
       "      0\n",
       "0    13\n",
       "1  1234"
      ]
     },
     "execution_count": 3,
     "metadata": {},
     "output_type": "execute_result"
    }
   ],
   "source": [
    "interest = 13\n",
    "loan = 1234\n",
    "pd.DataFrame([interest,loan])"
   ]
  },
  {
   "cell_type": "code",
   "execution_count": null,
   "metadata": {},
   "outputs": [],
   "source": []
  }
 ],
 "metadata": {
  "kernelspec": {
   "display_name": "Python 3",
   "language": "python",
   "name": "python3"
  },
  "language_info": {
   "codemirror_mode": {
    "name": "ipython",
    "version": 3
   },
   "file_extension": ".py",
   "mimetype": "text/x-python",
   "name": "python",
   "nbconvert_exporter": "python",
   "pygments_lexer": "ipython3",
   "version": "3.7.3"
  }
 },
 "nbformat": 4,
 "nbformat_minor": 4
}
